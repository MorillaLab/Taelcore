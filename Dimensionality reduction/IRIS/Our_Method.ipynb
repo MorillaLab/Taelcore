{
  "nbformat": 4,
  "nbformat_minor": 0,
  "metadata": {
    "colab": {
      "name": "Our_Method.ipynb",
      "provenance": []
    },
    "kernelspec": {
      "name": "python3",
      "display_name": "Python 3"
    },
    "language_info": {
      "name": "python"
    }
  },
  "cells": [
    {
      "cell_type": "code",
      "execution_count": 1,
      "metadata": {
        "id": "U3CPHZ2drx7B"
      },
      "outputs": [],
      "source": [
        "from sklearn import datasets\n",
        "import torch\n",
        "from torch import nn\n",
        "from torch.utils.data import DataLoader\n",
        "from gtda.diagrams import Amplitude\n",
        "import sklearn\n",
        "import numpy as np\n",
        "import pandas as pd\n",
        "from gtda.homology import VietorisRipsPersistence\n",
        "from matplotlib import pyplot as plt\n",
        "\n",
        "plt.rc('figure', max_open_warning = 0)"
      ]
    },
    {
      "cell_type": "code",
      "source": [
        "iris = datasets.load_iris()\n",
        "X = iris.data  \n",
        "y = iris.target\n",
        "X.shape,y.shape"
      ],
      "metadata": {
        "colab": {
          "base_uri": "https://localhost:8080/"
        },
        "id": "SKjE63mgr23z",
        "outputId": "a668144b-d720-4a25-9861-7b17fd5e7730"
      },
      "execution_count": 2,
      "outputs": [
        {
          "output_type": "execute_result",
          "data": {
            "text/plain": [
              "((150, 4), (150,))"
            ]
          },
          "metadata": {},
          "execution_count": 2
        }
      ]
    },
    {
      "cell_type": "code",
      "source": [
        "device = torch.device(\"cuda:0\" if torch.cuda.is_available() else \"cpu\")"
      ],
      "metadata": {
        "id": "rZcrOEyer26S"
      },
      "execution_count": 3,
      "outputs": []
    },
    {
      "cell_type": "code",
      "source": [
        "from sklearn.model_selection import train_test_split\n",
        "\n",
        "data_train,data_test,y_train,y_test = train_test_split(X,y ,random_state=89)\n",
        "data_train.shape,data_test.shape,y_train.shape,y_test.shape"
      ],
      "metadata": {
        "colab": {
          "base_uri": "https://localhost:8080/"
        },
        "id": "TXP3L0GLr28v",
        "outputId": "9ba8682e-cd95-4d02-86f0-a25193b178a8"
      },
      "execution_count": 4,
      "outputs": [
        {
          "output_type": "execute_result",
          "data": {
            "text/plain": [
              "((112, 4), (38, 4), (112,), (38,))"
            ]
          },
          "metadata": {},
          "execution_count": 4
        }
      ]
    },
    {
      "cell_type": "code",
      "source": [
        "dataset=[(x,y) for x,y in zip(data_train,y_train)]\n",
        "data_set=[(x,y) for x,y in zip(data_test,y_test)]"
      ],
      "metadata": {
        "id": "aILcDnCov_4M"
      },
      "execution_count": 5,
      "outputs": []
    },
    {
      "cell_type": "code",
      "source": [
        "train_loader=DataLoader(dataset, batch_size=8, shuffle=True)\n",
        "test_loader=DataLoader(data_set,batch_size=19,shuffle=True)"
      ],
      "metadata": {
        "id": "4k9D2ihHv_6Y"
      },
      "execution_count": 6,
      "outputs": []
    },
    {
      "cell_type": "code",
      "source": [
        "class Autoencoder(nn.Module):\n",
        "    def __init__(self):\n",
        "        super().__init__()\n",
        "        self.encoder = nn.Sequential(\n",
        "            nn.Linear(4, 2)\n",
        "            \n",
        "        )\n",
        "        self.decoder = nn.Sequential(\n",
        "            nn.Linear(2, 4)\n",
        "        )\n",
        "\n",
        "    def forward(self, x):\n",
        "        x = self.encoder(x)\n",
        "        x = self.decoder(x)\n",
        "        return x\n",
        "    \n",
        "model = Autoencoder().to(device)\n",
        "\n",
        "model=model.double()\n",
        "\n",
        "learning_rate = 0.001\n",
        "\n",
        "optimizer = torch.optim.Adam(\n",
        "    model.parameters(),\n",
        "    lr=learning_rate\n",
        ")\n",
        "\n",
        "mse=nn.MSELoss()"
      ],
      "metadata": {
        "id": "pwTP8fw8v_92"
      },
      "execution_count": 7,
      "outputs": []
    },
    {
      "cell_type": "code",
      "source": [
        "persistence = VietorisRipsPersistence(metric = 'euclidean',homology_dimensions=[0,1,2],n_jobs=-1,collapse_edges=True)"
      ],
      "metadata": {
        "id": "GGwcdFv_0FlR"
      },
      "execution_count": 8,
      "outputs": []
    },
    {
      "cell_type": "markdown",
      "source": [
        "# Training"
      ],
      "metadata": {
        "id": "vHWCbMof4x8X"
      }
    },
    {
      "cell_type": "code",
      "source": [
        "losses=[]\n",
        "\n",
        "num_epochs=200\n",
        "\n",
        "batch_size = len(train_loader)\n",
        "\n",
        "\n",
        "for epoch in range(num_epochs):\n",
        "    \n",
        "    X=[]\n",
        "    Y=[]\n",
        "    \n",
        "    total_loss = 0\n",
        "    \n",
        "    for data in train_loader:\n",
        "        \n",
        "        x,y=data\n",
        "\n",
        "\n",
        "        output = model(x)  \n",
        "        e=model.encoder(x).detach().numpy()\n",
        "                \n",
        "        X.append(e)\n",
        "        Y.append(y.numpy())\n",
        "        \n",
        "        \n",
        "        dy=persistence.fit_transform(output.detach().numpy()[None,:,:])\n",
        "        dz=persistence.fit_transform(e[None,:,:])\n",
        "        dx=persistence.fit_transform(x[None,:,:])\n",
        "        \n",
        "\n",
        "        a1=Amplitude(metric='bottleneck').fit_transform(dx)\n",
        "        a2=Amplitude(metric='wasserstein').fit_transform(dx)\n",
        "        a3=Amplitude(metric='landscape').fit_transform(dx)\n",
        "        a4=Amplitude(metric='betti').fit_transform(dx)\n",
        "        a5=Amplitude(metric='persistence_image').fit_transform(dx)\n",
        "        \n",
        "        a=a1+a2+a3+a4+a5\n",
        "        \n",
        "        b1=Amplitude(metric='bottleneck').fit_transform(dz)\n",
        "        b2=Amplitude(metric='wasserstein').fit_transform(dz)\n",
        "        b3=Amplitude(metric='landscape').fit_transform(dz)\n",
        "        b4=Amplitude(metric='betti').fit_transform(dz)\n",
        "        b5=Amplitude(metric='persistence_image').fit_transform(dz)\n",
        "        \n",
        "        b=b1+b2+b3+b4+b5\n",
        "        \n",
        "        c1=Amplitude(metric='bottleneck').fit_transform(dy)\n",
        "        c2=Amplitude(metric='wasserstein').fit_transform(dy)\n",
        "        c3=Amplitude(metric='landscape').fit_transform(dy)\n",
        "        c4=Amplitude(metric='betti').fit_transform(dy)\n",
        "        c5=Amplitude(metric='persistence_image').fit_transform(dy)\n",
        "        \n",
        "        c=c1+c2+c3+c4+c5\n",
        "    \n",
        "        l1=(np.linalg.norm(a-b)**2)/2\n",
        "    \n",
        "        l2=(np.linalg.norm(b-c)**2)/2\n",
        "    \n",
        "        l=l1+l2\n",
        "        \n",
        "    \n",
        "        loss = mse(output, x)+(1e-3)*l\n",
        "        \n",
        "        optimizer.zero_grad()\n",
        "        loss.backward()\n",
        "        optimizer.step()\n",
        "        \n",
        "        total_loss += loss.data\n",
        "        \n",
        "    total_loss = total_loss / batch_size\n",
        "    losses.append(total_loss)\n",
        "    \n",
        "    Y=np.asarray(Y).reshape(1,-1)\n",
        "    X=np.asarray(X).reshape(112,2)    \n",
        "    \n",
        "    \n",
        "    print(\"epoch : {}/{},  loss = {:.4f}\".format(epoch + 1, num_epochs, total_loss))\n",
        "    \n",
        "    fig = plt.figure(figsize=(8,8))\n",
        "    ax = plt.axes()\n",
        "    ax.scatter(X[:,0], X[:,1],c=Y,s=50)\n",
        "    ax.set_title('epoch {}'.format(epoch+1))\n",
        "    plt.savefig('iris{}.png'.format(epoch+1), dpi = 300)\n",
        "    \n",
        "     "
      ],
      "metadata": {
        "id": "Z12rSfIxwE2P"
      },
      "execution_count": null,
      "outputs": []
    },
    {
      "cell_type": "markdown",
      "source": [
        "# Visualization of loss function"
      ],
      "metadata": {
        "id": "c005jXXnwsyg"
      }
    },
    {
      "cell_type": "code",
      "source": [
        "plt.plot(losses[:])\n",
        "plt.xlabel('Iterations')\n",
        "plt.ylabel('Loss')\n",
        "plt.show()"
      ],
      "metadata": {
        "colab": {
          "base_uri": "https://localhost:8080/",
          "height": 279
        },
        "id": "6IqmK3aawFAz",
        "outputId": "7bf7ea86-5c01-4221-8306-03e084f1e322"
      },
      "execution_count": 10,
      "outputs": [
        {
          "output_type": "display_data",
          "data": {
            "text/plain": [
              "<Figure size 432x288 with 1 Axes>"
            ],
            "image/png": "[encoded data removed]"
          },
          "metadata": {
            "needs_background": "light"
          }
        }
      ]
    },
    {
      "cell_type": "markdown",
      "source": [
        "# Test\n"
      ],
      "metadata": {
        "id": "H3jH4azkwndc"
      }
    },
    {
      "cell_type": "code",
      "source": [
        "test_loss = 0\n",
        "s=0\n",
        "with torch.no_grad():\n",
        "    X=[]\n",
        "    Y=[]\n",
        "\n",
        "    for data in test_loader:\n",
        "        x,y=data\n",
        "\n",
        "        output = model(x)\n",
        "\n",
        "\n",
        "            \n",
        "        \n",
        "        e=model.encoder(x).detach().numpy()\n",
        "                \n",
        "        X.append(e)\n",
        "        \n",
        "        Y.append(y.numpy())\n",
        "        \n",
        "        dy=persistence.fit_transform(output.detach().numpy()[None,:,:])\n",
        "        dz=persistence.fit_transform(e[None,:,:])\n",
        "        dx=persistence.fit_transform(x[None,:,:])\n",
        "        \n",
        "        a1=Amplitude(metric='bottleneck').fit_transform(dx)\n",
        "        a2=Amplitude(metric='wasserstein').fit_transform(dx)\n",
        "        a3=Amplitude(metric='landscape').fit_transform(dx)\n",
        "        a4=Amplitude(metric='betti').fit_transform(dx)\n",
        "        a5=Amplitude(metric='persistence_image').fit_transform(dx)\n",
        "        \n",
        "        a=a1+a2+a3+a4+a5\n",
        "        \n",
        "        b1=Amplitude(metric='bottleneck').fit_transform(dz)\n",
        "        b2=Amplitude(metric='wasserstein').fit_transform(dz)\n",
        "        b3=Amplitude(metric='landscape').fit_transform(dz)\n",
        "        b4=Amplitude(metric='betti').fit_transform(dz)\n",
        "        b5=Amplitude(metric='persistence_image').fit_transform(dz)\n",
        "        \n",
        "        b=b1+b2+b3+b4+b5\n",
        "        \n",
        "        c1=Amplitude(metric='bottleneck').fit_transform(dy)\n",
        "        c2=Amplitude(metric='wasserstein').fit_transform(dy)\n",
        "        c3=Amplitude(metric='landscape').fit_transform(dy)\n",
        "        c4=Amplitude(metric='betti').fit_transform(dy)\n",
        "        c5=Amplitude(metric='persistence_image').fit_transform(dy)\n",
        "        \n",
        "        c=c1+c2+c3+c4+c5\n",
        "    \n",
        "        l1=(np.linalg.norm(a-b)**2)/2\n",
        "    \n",
        "        l2=(np.linalg.norm(b-c)**2)/2\n",
        "    \n",
        "        l=l1+l2\n",
        "        \n",
        "    \n",
        "        loss = mse(output, x)+(1e-3)*l\n",
        "        test_loss += loss.item()\n",
        "        \n",
        "    test_loss /= len(test_loader)\n",
        "    print('====> Test set loss: {:.4f}'.format(test_loss))\n",
        "    \n",
        "    Y=np.asarray(Y).reshape(1,-1)\n",
        "    X=np.asarray(X).reshape(38,2)  \n",
        "    \n",
        "    fig = plt.figure(figsize=(8,8))\n",
        "    ax = plt.axes()\n",
        "    ax.scatter(X[:,0], X[:,1],c=Y,s=50)\n",
        "    ax.set_title('test')"
      ],
      "metadata": {
        "colab": {
          "base_uri": "https://localhost:8080/",
          "height": 516
        },
        "id": "paLdR9qvwMxd",
        "outputId": "56a96421-144e-4dda-99f4-41fc9f1f4df5"
      },
      "execution_count": 11,
      "outputs": [
        {
          "output_type": "stream",
          "name": "stdout",
          "text": [
            "====> Test set loss: 0.3544\n"
          ]
        },
        {
          "output_type": "display_data",
          "data": {
            "text/plain": [
              "<Figure size 576x576 with 1 Axes>"
            ],
            "image/png": "[encoded data removed]"
          },
          "metadata": {
            "needs_background": "light"
          }
        }
      ]
    },
    {
      "cell_type": "markdown",
      "source": [
        "# Visualization of latent space"
      ],
      "metadata": {
        "id": "ZCkuCcy82PSe"
      }
    },
    {
      "cell_type": "code",
      "source": [
        "X = iris.data  \n",
        "y = iris.target\n",
        "m=model.encoder(torch.from_numpy(X))\n",
        "fig = plt.figure(figsize=(8,8))\n",
        "ax = plt.axes()\n",
        "ax.scatter(m[:,0].detach().numpy(), m[:,1].detach().numpy(),c=y,s=50)"
      ],
      "metadata": {
        "colab": {
          "base_uri": "https://localhost:8080/",
          "height": 500
        },
        "id": "qulpoUZLwPvc",
        "outputId": "e3b4e330-9508-4ec9-ac13-7d22f6606b7a"
      },
      "execution_count": 12,
      "outputs": [
        {
          "output_type": "execute_result",
          "data": {
            "text/plain": [
              "<matplotlib.collections.PathCollection at 0x7f1bd2903550>"
            ]
          },
          "metadata": {},
          "execution_count": 12
        },
        {
          "output_type": "display_data",
          "data": {
            "text/plain": [
              "<Figure size 576x576 with 1 Axes>"
            ],
            "image/png": "[encoded data removed]"
          },
          "metadata": {
            "needs_background": "light"
          }
        }
      ]
    },
    {
      "cell_type": "markdown",
      "source": [
        "# Evaluation"
      ],
      "metadata": {
        "id": "jcMXbW37w9MU"
      }
    },
    {
      "cell_type": "code",
      "source": [
        "import math\n",
        "from scipy.spatial import distance\n",
        "from sklearn.metrics.pairwise import euclidean_distances\n",
        "from sklearn import preprocessing"
      ],
      "metadata": {
        "id": "fuNWoYY7r3AT"
      },
      "execution_count": 13,
      "outputs": []
    },
    {
      "cell_type": "code",
      "source": [
        "def matrice_distance(data):\n",
        "    d=euclidean_distances(data,data)\n",
        "    d=preprocessing.normalize(d)\n",
        "    return d"
      ],
      "metadata": {
        "id": "YBeK0ybUsAGV"
      },
      "execution_count": 14,
      "outputs": []
    },
    {
      "cell_type": "code",
      "source": [
        "m=m.detach().numpy()\n",
        "A=matrice_distance(m)\n",
        "B=d=matrice_distance(X)"
      ],
      "metadata": {
        "id": "t0sqCi8qsAIw"
      },
      "execution_count": 15,
      "outputs": []
    },
    {
      "cell_type": "code",
      "source": [
        "def estimateur(data,d,sigma):\n",
        "    f=[]\n",
        "    for i in range(40):\n",
        "        s=0\n",
        "        for j in range(40):\n",
        "            s=s+math.exp(- (d[i][j]**2)*(sigma**(-1)))\n",
        "        f.append(s)\n",
        "    return f"
      ],
      "metadata": {
        "id": "ZZyM5PMBsAMM"
      },
      "execution_count": 16,
      "outputs": []
    },
    {
      "cell_type": "code",
      "source": [
        "sigma=[0.01,0.1,1]\n",
        "\n",
        "f=[estimateur(X,B,sigma) for sigma in sigma]\n",
        "\n",
        "g=[estimateur(m,A,sigma) for sigma in sigma] "
      ],
      "metadata": {
        "id": "Iyi3JblTsGKW"
      },
      "execution_count": 17,
      "outputs": []
    },
    {
      "cell_type": "code",
      "source": [
        "def KL(a, b):\n",
        "    a = np.asarray(a, dtype=np.float64)\n",
        "    b = np.asarray(b, dtype=np.float64)\n",
        "\n",
        "    return np.sum(np.where(a != 0, a * np.log(a / b), 0))"
      ],
      "metadata": {
        "id": "VqbdhD1bsGM7"
      },
      "execution_count": 18,
      "outputs": []
    },
    {
      "cell_type": "code",
      "source": [
        "kl=[]\n",
        "for i in range(3):\n",
        "    kl.append(KL(f[i],g[i]))"
      ],
      "metadata": {
        "id": "AEEq_GiksGQU"
      },
      "execution_count": 19,
      "outputs": []
    },
    {
      "cell_type": "code",
      "source": [
        "RMSE=[]\n",
        "\n",
        "MSE = np.square(np.subtract(B,A)).mean()\n",
        "\n",
        "RMSE.append(math.sqrt(MSE))"
      ],
      "metadata": {
        "id": "q7doPbZjsLy5"
      },
      "execution_count": 20,
      "outputs": []
    },
    {
      "cell_type": "code",
      "source": [
        "from sklearn.manifold import trustworthiness\n",
        "\n",
        "Trust=[]\n",
        "\n",
        "Trust.append(sklearn.manifold.trustworthiness(B,A))"
      ],
      "metadata": {
        "id": "bnfuJJwnsL1b"
      },
      "execution_count": 21,
      "outputs": []
    },
    {
      "cell_type": "code",
      "source": [
        "from sklearn.metrics import mean_squared_error\n",
        "mse=[]\n",
        "mse.append(mean_squared_error(X,model(torch.from_numpy(X)).detach().numpy()))"
      ],
      "metadata": {
        "id": "0UKkJOg6wZlE"
      },
      "execution_count": 22,
      "outputs": []
    },
    {
      "cell_type": "code",
      "source": [
        "Tab=pd.DataFrame([kl])\n",
        "Tab.columns=['KL_0.01','KL_0.1','KL_1']\n",
        "Tab['RMSE']=RMSE\n",
        "Tab['Trust']=Trust\n",
        "Tab['MSE']=mse\n",
        "Tab"
      ],
      "metadata": {
        "colab": {
          "base_uri": "https://localhost:8080/",
          "height": 81
        },
        "id": "_lVYtAzhsRlO",
        "outputId": "cef180c4-5331-4325-945d-f3103b6c9be1"
      },
      "execution_count": 23,
      "outputs": [
        {
          "output_type": "execute_result",
          "data": {
            "text/plain": [
              "     KL_0.01   KL_0.1      KL_1      RMSE     Trust       MSE\n",
              "0 -27.376763 -2.88433 -0.289967  0.007025  0.973991  0.042454"
            ],
            "text/html": [
              "\n",
              "  <div id=\"df-fd0c5b54-a0a4-466e-84bb-a3d591dc905c\">\n",
              "    <div class=\"colab-df-container\">\n",
              "      <div>\n",
              "<style scoped>\n",
              "    .dataframe tbody tr th:only-of-type {\n",
              "        vertical-align: middle;\n",
              "    }\n",
              "\n",
              "    .dataframe tbody tr th {\n",
              "        vertical-align: top;\n",
              "    }\n",
              "\n",
              "    .dataframe thead th {\n",
              "        text-align: right;\n",
              "    }\n",
              "</style>\n",
              "<table border=\"1\" class=\"dataframe\">\n",
              "  <thead>\n",
              "    <tr style=\"text-align: right;\">\n",
              "      <th></th>\n",
              "      <th>KL_0.01</th>\n",
              "      <th>KL_0.1</th>\n",
              "      <th>KL_1</th>\n",
              "      <th>RMSE</th>\n",
              "      <th>Trust</th>\n",
              "      <th>MSE</th>\n",
              "    </tr>\n",
              "  </thead>\n",
              "  <tbody>\n",
              "    <tr>\n",
              "      <th>0</th>\n",
              "      <td>-27.376763</td>\n",
              "      <td>-2.88433</td>\n",
              "      <td>-0.289967</td>\n",
              "      <td>0.007025</td>\n",
              "      <td>0.973991</td>\n",
              "      <td>0.042454</td>\n",
              "    </tr>\n",
              "  </tbody>\n",
              "</table>\n",
              "</div>\n",
              "      <button class=\"colab-df-convert\" onclick=\"convertToInteractive('df-fd0c5b54-a0a4-466e-84bb-a3d591dc905c')\"\n",
              "              title=\"Convert this dataframe to an interactive table.\"\n",
              "              style=\"display:none;\">\n",
              "        \n",
              "  <svg xmlns=\"http://www.w3.org/2000/svg\" height=\"24px\"viewBox=\"0 0 24 24\"\n",
              "       width=\"24px\">\n",
              "    <path d=\"M0 0h24v24H0V0z\" fill=\"none\"/>\n",
              "    <path d=\"M18.56 5.44l.94 2.06.94-2.06 2.06-.94-2.06-.94-.94-2.06-.94 2.06-2.06.94zm-11 1L8.5 8.5l.94-2.06 2.06-.94-2.06-.94L8.5 2.5l-.94 2.06-2.06.94zm10 10l.94 2.06.94-2.06 2.06-.94-2.06-.94-.94-2.06-.94 2.06-2.06.94z\"/><path d=\"M17.41 7.96l-1.37-1.37c-.4-.4-.92-.59-1.43-.59-.52 0-1.04.2-1.43.59L10.3 9.45l-7.72 7.72c-.78.78-.78 2.05 0 2.83L4 21.41c.39.39.9.59 1.41.59.51 0 1.02-.2 1.41-.59l7.78-7.78 2.81-2.81c.8-.78.8-2.07 0-2.86zM5.41 20L4 18.59l7.72-7.72 1.47 1.35L5.41 20z\"/>\n",
              "  </svg>\n",
              "      </button>\n",
              "      \n",
              "  <style>\n",
              "    .colab-df-container {\n",
              "      display:flex;\n",
              "      flex-wrap:wrap;\n",
              "      gap: 12px;\n",
              "    }\n",
              "\n",
              "    .colab-df-convert {\n",
              "      background-color: #E8F0FE;\n",
              "      border: none;\n",
              "      border-radius: 50%;\n",
              "      cursor: pointer;\n",
              "      display: none;\n",
              "      fill: #1967D2;\n",
              "      height: 32px;\n",
              "      padding: 0 0 0 0;\n",
              "      width: 32px;\n",
              "    }\n",
              "\n",
              "    .colab-df-convert:hover {\n",
              "      background-color: #E2EBFA;\n",
              "      box-shadow: 0px 1px 2px rgba(60, 64, 67, 0.3), 0px 1px 3px 1px rgba(60, 64, 67, 0.15);\n",
              "      fill: #174EA6;\n",
              "    }\n",
              "\n",
              "    [theme=dark] .colab-df-convert {\n",
              "      background-color: #3B4455;\n",
              "      fill: #D2E3FC;\n",
              "    }\n",
              "\n",
              "    [theme=dark] .colab-df-convert:hover {\n",
              "      background-color: #434B5C;\n",
              "      box-shadow: 0px 1px 3px 1px rgba(0, 0, 0, 0.15);\n",
              "      filter: drop-shadow(0px 1px 2px rgba(0, 0, 0, 0.3));\n",
              "      fill: #FFFFFF;\n",
              "    }\n",
              "  </style>\n",
              "\n",
              "      <script>\n",
              "        const buttonEl =\n",
              "          document.querySelector('#df-fd0c5b54-a0a4-466e-84bb-a3d591dc905c button.colab-df-convert');\n",
              "        buttonEl.style.display =\n",
              "          google.colab.kernel.accessAllowed ? 'block' : 'none';\n",
              "\n",
              "        async function convertToInteractive(key) {\n",
              "          const element = document.querySelector('#df-fd0c5b54-a0a4-466e-84bb-a3d591dc905c');\n",
              "          const dataTable =\n",
              "            await google.colab.kernel.invokeFunction('convertToInteractive',\n",
              "                                                     [key], {});\n",
              "          if (!dataTable) return;\n",
              "\n",
              "          const docLinkHtml = 'Like what you see? Visit the ' +\n",
              "            '<a target=\"_blank\" href=https://colab.research.google.com/notebooks/data_table.ipynb>data table notebook</a>'\n",
              "            + ' to learn more about interactive tables.';\n",
              "          element.innerHTML = '';\n",
              "          dataTable['output_type'] = 'display_data';\n",
              "          await google.colab.output.renderOutput(dataTable, element);\n",
              "          const docLink = document.createElement('div');\n",
              "          docLink.innerHTML = docLinkHtml;\n",
              "          element.appendChild(docLink);\n",
              "        }\n",
              "      </script>\n",
              "    </div>\n",
              "  </div>\n",
              "  "
            ]
          },
          "metadata": {},
          "execution_count": 23
        }
      ]
    }
  ]
}