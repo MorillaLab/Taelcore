{
  "nbformat": 4,
  "nbformat_minor": 0,
  "metadata": {
    "colab": {
      "name": "Perceptron_multicouche.ipynb",
      "provenance": []
    },
    "kernelspec": {
      "name": "python3",
      "display_name": "Python 3"
    },
    "language_info": {
      "name": "python"
    }
  },
  "cells": [
    {
      "cell_type": "markdown",
      "source": [
        "# Data preparation"
      ],
      "metadata": {
        "id": "y__Pptx1HK5Z"
      }
    },
    {
      "cell_type": "code",
      "source": [
        "import numpy as np \n",
        "import matplotlib.pyplot as plt\n",
        "import pandas as pd\n",
        "\n",
        "df = pd.read_excel ('Ian_CD31805.05.2022._Fatma.xlsx')\n",
        "df\n",
        "\n",
        "df=df.fillna(0)\n",
        "df.columns = df.columns.str.replace(' ','_')\n",
        "df = df.rename(columns = {\"rejet_aigu_cellulaire_dans_l'année\":'rejet_aigu_cellulaire_dans_lannée'})\n",
        "\n",
        "df['date_de_rejet_aigu_cellulaire']=pd.factorize(df['date_de_rejet_aigu_cellulaire'])[0]\n",
        "df['grade_RAC']=pd.factorize(df['grade_RAC'])[0]\n",
        "df['date_de_TP']=pd.factorize(df['date_de_TP'])[0]\n",
        "\n",
        "y=df[\"rejet_aigu_cellulaire_dans_lannée\"]\n",
        "z1=df['NIP']\n",
        "z2=df['date_de_TP']\n",
        "x=df.drop([\"rejet_aigu_cellulaire_dans_lannée\",'NIP','date_de_TP'],axis=1)\n",
        "\n",
        "from sklearn.preprocessing import StandardScaler\n",
        "#Standardisez les caractéristiques en supprimant la moyenne et en mettant à l'échelle la variance unitaire\n",
        "df_scale=pd.DataFrame(StandardScaler().fit_transform(df))\n",
        "df_scale.index=df.index\n",
        "df_scale.columns=df.columns\n",
        "\n",
        "#Next, let’s collect all these point clouds in a single NumPy array:\n",
        "point_clouds = np.asarray(\n",
        "    [\n",
        "       df_scale.query(\"rejet_aigu_cellulaire_dans_lannée == @df\")[[ 'CD31_H24',\n",
        "       'PaO2/FiO2_H24', 'SOFA_respiratoire_H24', 'CD31_H48', 'PaO2/FiO2_H48',\n",
        "       'SOFA_respiratoire_H48', 'CD31_H72', 'PaO2/FiO2_H72',\n",
        "       'SOFA_respiratoire_H72'\n",
        "       ]].values\n",
        "        for df in df_scale[\"rejet_aigu_cellulaire_dans_lannée\"].unique()\n",
        "    ]\n",
        ")\n",
        "point_clouds.shape\n",
        "\n",
        "P0 = point_clouds[0].tolist()\n",
        "P1=point_clouds[1].tolist()\n",
        "\n",
        "#transformer sous forme de matrice \n",
        "P0 = np.reshape(P0, (len(P0),3, 3))  #9=3*3\n",
        "P1 = np.reshape(P1, (len(P1),3, 3))\n",
        "P0.shape,P1.shape\n",
        "\n",
        "P = np.concatenate((P0, P1), axis=0)\n",
        "P.shape\n",
        "\n",
        "from gtda.homology import VietorisRipsPersistence\n",
        "\n",
        "persistence = VietorisRipsPersistence(metric = 'euclidean',homology_dimensions=[0,1,2],n_jobs=-1,collapse_edges=True)\n",
        "\n",
        "persistence_diagrams = persistence.fit_transform(P)\n",
        "\n",
        "#from gtda.plotting import plot_diagram \n",
        "\n",
        "#plot_diagram(persistence_diagrams[0])\n",
        "\n",
        "#convertir chaque diagramme en un vecteur tridimensionnel.\n",
        "from gtda.diagrams import PersistenceEntropy\n",
        "\n",
        "persistence_entropy = PersistenceEntropy(normalize=True)\n",
        "\n",
        "# Calculate topological feature matrix\n",
        "X= persistence_entropy.fit_transform(persistence_diagrams)\n",
        "\n",
        "X.shape\n",
        "\n",
        "labels=np.zeros(40)\n",
        "labels[33:] = 1\n"
      ],
      "metadata": {
        "id": "B1tWxgBkHNdi"
      },
      "execution_count": null,
      "outputs": []
    },
    {
      "cell_type": "markdown",
      "source": [
        "# Perceptron multicouche"
      ],
      "metadata": {
        "id": "BYcTUVFgHQMC"
      }
    },
    {
      "cell_type": "markdown",
      "source": [
        "## Before topological improvement"
      ],
      "metadata": {
        "id": "PLL7A3Q3HSmr"
      }
    },
    {
      "cell_type": "code",
      "source": [
        "from sklearn.neural_network import MLPClassifier\n",
        "clf = MLPClassifier(solver='sgd',batch_size=20, hidden_layer_sizes=(18,2),max_iter=10000,random_state=1)\n",
        "\n",
        "from sklearn.model_selection import train_test_split\n",
        "\n",
        "X_train, X_valid, labels_train, labels_valid = train_test_split(X, labels, random_state=89)\n",
        "\n",
        "clf.fit(X_train,labels_train)\n",
        "clf.score(X_valid,labels_valid)"
      ],
      "metadata": {
        "colab": {
          "base_uri": "https://localhost:8080/"
        },
        "id": "mBmpTVGgHYGM",
        "outputId": "7f36876b-d1a2-4adc-d5ea-32b3f46a6f05"
      },
      "execution_count": 2,
      "outputs": [
        {
          "output_type": "execute_result",
          "data": {
            "text/plain": [
              "0.8"
            ]
          },
          "metadata": {},
          "execution_count": 2
        }
      ]
    },
    {
      "cell_type": "markdown",
      "source": [
        "## After topological improvement"
      ],
      "metadata": {
        "id": "rFdS3-QdHfOo"
      }
    },
    {
      "cell_type": "code",
      "source": [
        "metrics=[\"bottleneck\", \"wasserstein\", \"landscape\",\"betti\",\"heat\",\"silhouette\", \"persistence_image\"]\n",
        "from itertools import combinations\n",
        "\n",
        "l=[]\n",
        "for j in range(len(metrics)):\n",
        "    l=l+(list(combinations(metrics, j+1)) )\n",
        "l"
      ],
      "metadata": {
        "colab": {
          "base_uri": "https://localhost:8080/"
        },
        "id": "h7u-fs6IHy-u",
        "outputId": "a869f2f3-3344-4f54-8884-ae932874e07f"
      },
      "execution_count": 3,
      "outputs": [
        {
          "output_type": "execute_result",
          "data": {
            "text/plain": [
              "[('bottleneck',),\n",
              " ('wasserstein',),\n",
              " ('landscape',),\n",
              " ('betti',),\n",
              " ('heat',),\n",
              " ('silhouette',),\n",
              " ('persistence_image',),\n",
              " ('bottleneck', 'wasserstein'),\n",
              " ('bottleneck', 'landscape'),\n",
              " ('bottleneck', 'betti'),\n",
              " ('bottleneck', 'heat'),\n",
              " ('bottleneck', 'silhouette'),\n",
              " ('bottleneck', 'persistence_image'),\n",
              " ('wasserstein', 'landscape'),\n",
              " ('wasserstein', 'betti'),\n",
              " ('wasserstein', 'heat'),\n",
              " ('wasserstein', 'silhouette'),\n",
              " ('wasserstein', 'persistence_image'),\n",
              " ('landscape', 'betti'),\n",
              " ('landscape', 'heat'),\n",
              " ('landscape', 'silhouette'),\n",
              " ('landscape', 'persistence_image'),\n",
              " ('betti', 'heat'),\n",
              " ('betti', 'silhouette'),\n",
              " ('betti', 'persistence_image'),\n",
              " ('heat', 'silhouette'),\n",
              " ('heat', 'persistence_image'),\n",
              " ('silhouette', 'persistence_image'),\n",
              " ('bottleneck', 'wasserstein', 'landscape'),\n",
              " ('bottleneck', 'wasserstein', 'betti'),\n",
              " ('bottleneck', 'wasserstein', 'heat'),\n",
              " ('bottleneck', 'wasserstein', 'silhouette'),\n",
              " ('bottleneck', 'wasserstein', 'persistence_image'),\n",
              " ('bottleneck', 'landscape', 'betti'),\n",
              " ('bottleneck', 'landscape', 'heat'),\n",
              " ('bottleneck', 'landscape', 'silhouette'),\n",
              " ('bottleneck', 'landscape', 'persistence_image'),\n",
              " ('bottleneck', 'betti', 'heat'),\n",
              " ('bottleneck', 'betti', 'silhouette'),\n",
              " ('bottleneck', 'betti', 'persistence_image'),\n",
              " ('bottleneck', 'heat', 'silhouette'),\n",
              " ('bottleneck', 'heat', 'persistence_image'),\n",
              " ('bottleneck', 'silhouette', 'persistence_image'),\n",
              " ('wasserstein', 'landscape', 'betti'),\n",
              " ('wasserstein', 'landscape', 'heat'),\n",
              " ('wasserstein', 'landscape', 'silhouette'),\n",
              " ('wasserstein', 'landscape', 'persistence_image'),\n",
              " ('wasserstein', 'betti', 'heat'),\n",
              " ('wasserstein', 'betti', 'silhouette'),\n",
              " ('wasserstein', 'betti', 'persistence_image'),\n",
              " ('wasserstein', 'heat', 'silhouette'),\n",
              " ('wasserstein', 'heat', 'persistence_image'),\n",
              " ('wasserstein', 'silhouette', 'persistence_image'),\n",
              " ('landscape', 'betti', 'heat'),\n",
              " ('landscape', 'betti', 'silhouette'),\n",
              " ('landscape', 'betti', 'persistence_image'),\n",
              " ('landscape', 'heat', 'silhouette'),\n",
              " ('landscape', 'heat', 'persistence_image'),\n",
              " ('landscape', 'silhouette', 'persistence_image'),\n",
              " ('betti', 'heat', 'silhouette'),\n",
              " ('betti', 'heat', 'persistence_image'),\n",
              " ('betti', 'silhouette', 'persistence_image'),\n",
              " ('heat', 'silhouette', 'persistence_image'),\n",
              " ('bottleneck', 'wasserstein', 'landscape', 'betti'),\n",
              " ('bottleneck', 'wasserstein', 'landscape', 'heat'),\n",
              " ('bottleneck', 'wasserstein', 'landscape', 'silhouette'),\n",
              " ('bottleneck', 'wasserstein', 'landscape', 'persistence_image'),\n",
              " ('bottleneck', 'wasserstein', 'betti', 'heat'),\n",
              " ('bottleneck', 'wasserstein', 'betti', 'silhouette'),\n",
              " ('bottleneck', 'wasserstein', 'betti', 'persistence_image'),\n",
              " ('bottleneck', 'wasserstein', 'heat', 'silhouette'),\n",
              " ('bottleneck', 'wasserstein', 'heat', 'persistence_image'),\n",
              " ('bottleneck', 'wasserstein', 'silhouette', 'persistence_image'),\n",
              " ('bottleneck', 'landscape', 'betti', 'heat'),\n",
              " ('bottleneck', 'landscape', 'betti', 'silhouette'),\n",
              " ('bottleneck', 'landscape', 'betti', 'persistence_image'),\n",
              " ('bottleneck', 'landscape', 'heat', 'silhouette'),\n",
              " ('bottleneck', 'landscape', 'heat', 'persistence_image'),\n",
              " ('bottleneck', 'landscape', 'silhouette', 'persistence_image'),\n",
              " ('bottleneck', 'betti', 'heat', 'silhouette'),\n",
              " ('bottleneck', 'betti', 'heat', 'persistence_image'),\n",
              " ('bottleneck', 'betti', 'silhouette', 'persistence_image'),\n",
              " ('bottleneck', 'heat', 'silhouette', 'persistence_image'),\n",
              " ('wasserstein', 'landscape', 'betti', 'heat'),\n",
              " ('wasserstein', 'landscape', 'betti', 'silhouette'),\n",
              " ('wasserstein', 'landscape', 'betti', 'persistence_image'),\n",
              " ('wasserstein', 'landscape', 'heat', 'silhouette'),\n",
              " ('wasserstein', 'landscape', 'heat', 'persistence_image'),\n",
              " ('wasserstein', 'landscape', 'silhouette', 'persistence_image'),\n",
              " ('wasserstein', 'betti', 'heat', 'silhouette'),\n",
              " ('wasserstein', 'betti', 'heat', 'persistence_image'),\n",
              " ('wasserstein', 'betti', 'silhouette', 'persistence_image'),\n",
              " ('wasserstein', 'heat', 'silhouette', 'persistence_image'),\n",
              " ('landscape', 'betti', 'heat', 'silhouette'),\n",
              " ('landscape', 'betti', 'heat', 'persistence_image'),\n",
              " ('landscape', 'betti', 'silhouette', 'persistence_image'),\n",
              " ('landscape', 'heat', 'silhouette', 'persistence_image'),\n",
              " ('betti', 'heat', 'silhouette', 'persistence_image'),\n",
              " ('bottleneck', 'wasserstein', 'landscape', 'betti', 'heat'),\n",
              " ('bottleneck', 'wasserstein', 'landscape', 'betti', 'silhouette'),\n",
              " ('bottleneck', 'wasserstein', 'landscape', 'betti', 'persistence_image'),\n",
              " ('bottleneck', 'wasserstein', 'landscape', 'heat', 'silhouette'),\n",
              " ('bottleneck', 'wasserstein', 'landscape', 'heat', 'persistence_image'),\n",
              " ('bottleneck', 'wasserstein', 'landscape', 'silhouette', 'persistence_image'),\n",
              " ('bottleneck', 'wasserstein', 'betti', 'heat', 'silhouette'),\n",
              " ('bottleneck', 'wasserstein', 'betti', 'heat', 'persistence_image'),\n",
              " ('bottleneck', 'wasserstein', 'betti', 'silhouette', 'persistence_image'),\n",
              " ('bottleneck', 'wasserstein', 'heat', 'silhouette', 'persistence_image'),\n",
              " ('bottleneck', 'landscape', 'betti', 'heat', 'silhouette'),\n",
              " ('bottleneck', 'landscape', 'betti', 'heat', 'persistence_image'),\n",
              " ('bottleneck', 'landscape', 'betti', 'silhouette', 'persistence_image'),\n",
              " ('bottleneck', 'landscape', 'heat', 'silhouette', 'persistence_image'),\n",
              " ('bottleneck', 'betti', 'heat', 'silhouette', 'persistence_image'),\n",
              " ('wasserstein', 'landscape', 'betti', 'heat', 'silhouette'),\n",
              " ('wasserstein', 'landscape', 'betti', 'heat', 'persistence_image'),\n",
              " ('wasserstein', 'landscape', 'betti', 'silhouette', 'persistence_image'),\n",
              " ('wasserstein', 'landscape', 'heat', 'silhouette', 'persistence_image'),\n",
              " ('wasserstein', 'betti', 'heat', 'silhouette', 'persistence_image'),\n",
              " ('landscape', 'betti', 'heat', 'silhouette', 'persistence_image'),\n",
              " ('bottleneck', 'wasserstein', 'landscape', 'betti', 'heat', 'silhouette'),\n",
              " ('bottleneck',\n",
              "  'wasserstein',\n",
              "  'landscape',\n",
              "  'betti',\n",
              "  'heat',\n",
              "  'persistence_image'),\n",
              " ('bottleneck',\n",
              "  'wasserstein',\n",
              "  'landscape',\n",
              "  'betti',\n",
              "  'silhouette',\n",
              "  'persistence_image'),\n",
              " ('bottleneck',\n",
              "  'wasserstein',\n",
              "  'landscape',\n",
              "  'heat',\n",
              "  'silhouette',\n",
              "  'persistence_image'),\n",
              " ('bottleneck',\n",
              "  'wasserstein',\n",
              "  'betti',\n",
              "  'heat',\n",
              "  'silhouette',\n",
              "  'persistence_image'),\n",
              " ('bottleneck',\n",
              "  'landscape',\n",
              "  'betti',\n",
              "  'heat',\n",
              "  'silhouette',\n",
              "  'persistence_image'),\n",
              " ('wasserstein',\n",
              "  'landscape',\n",
              "  'betti',\n",
              "  'heat',\n",
              "  'silhouette',\n",
              "  'persistence_image'),\n",
              " ('bottleneck',\n",
              "  'wasserstein',\n",
              "  'landscape',\n",
              "  'betti',\n",
              "  'heat',\n",
              "  'silhouette',\n",
              "  'persistence_image')]"
            ]
          },
          "metadata": {},
          "execution_count": 3
        }
      ]
    },
    {
      "cell_type": "code",
      "source": [
        "from sklearn.model_selection import train_test_split\n",
        "from itertools import combinations\n",
        "from gtda.diagrams import PersistenceEntropy\n",
        "from sklearn.neural_network import MLPClassifier\n",
        "\n",
        "\n",
        "from sklearn.ensemble import RandomForestClassifier\n",
        "from gtda.diagrams import NumberOfPoints , Amplitude\n",
        "\n",
        "from sklearn.pipeline import make_union\n",
        "\n",
        "metrics =  [\"bottleneck\"]\n",
        "\n",
        "\n",
        "def amplitude(metric):\n",
        "    a=[Amplitude(metric[i]) for i in range(len(metric))]\n",
        "    return a \n",
        "\n",
        "\n",
        "\n",
        "\n",
        "def feature_union(metric):\n",
        "         a= make_union( PersistenceEntropy(normalize=True), NumberOfPoints(n_jobs=-1),*[a for a in amplitude(metric)])\n",
        "         return a\n",
        "\n",
        "\n",
        "X_train, X_valid, labels_train, labels_valid = train_test_split(persistence_diagrams, labels, random_state=89)\n",
        "\n",
        "from gtda.pipeline import Pipeline\n",
        "from sklearn.model_selection import GridSearchCV\n",
        "\n",
        "estimators = [(\"features\", feature_union(metric=metrics)),(\"clf\", MLPClassifier(solver='sgd',batch_size=20, hidden_layer_sizes=(18,2),max_iter=10000,random_state=1))]\n",
        "\n",
        "p=Pipeline(estimators)\n",
        "\n",
        "param_grid = { 'features':[feature_union(metric=l[i]) for i in range(len(l))]\n",
        "}\n",
        "from sklearn.model_selection import StratifiedKFold\n",
        "\n",
        "k_fold = StratifiedKFold(n_splits=15, shuffle=True, random_state=0)\n",
        "\n",
        "CV = GridSearchCV(estimator=p, param_grid=param_grid, cv= k_fold,scoring='accuracy')\n",
        "\n",
        "\n",
        "\n",
        "CV"
      ],
      "metadata": {
        "colab": {
          "base_uri": "https://localhost:8080/"
        },
        "id": "Yv-QaJiNHiMF",
        "outputId": "f7fa71b1-024e-40c9-cad3-85dc2721e37d"
      },
      "execution_count": 4,
      "outputs": [
        {
          "output_type": "execute_result",
          "data": {
            "text/plain": [
              "GridSearchCV(cv=StratifiedKFold(n_splits=15, random_state=0, shuffle=True),\n",
              "             estimator=Pipeline(steps=[('features',\n",
              "                                        FeatureUnion(transformer_list=[('persistenceentropy',\n",
              "                                                                        PersistenceEntropy(normalize=True)),\n",
              "                                                                       ('numberofpoints',\n",
              "                                                                        NumberOfPoints(n_jobs=-1)),\n",
              "                                                                       ('amplitude',\n",
              "                                                                        Amplitude(metric='bottleneck'))])),\n",
              "                                       ('clf',\n",
              "                                        MLPClassifier(batch_size=20,\n",
              "                                                      hidden_layer_sizes=(18...\n",
              "                                                                      Amplitude(metric='wasserstein')),\n",
              "                                                                     ('amplitude-3',\n",
              "                                                                      Amplitude())]),\n",
              "                                      FeatureUnion(transformer_list=[('persistenceentropy',\n",
              "                                                                      PersistenceEntropy(normalize=True)),\n",
              "                                                                     ('numberofpoints',\n",
              "                                                                      NumberOfPoints(n_jobs=-1)),\n",
              "                                                                     ('amplitude-1',\n",
              "                                                                      Amplitude(metric='bottleneck')),\n",
              "                                                                     ('amplitude-2',\n",
              "                                                                      Amplitude(metric='wasserstein')),\n",
              "                                                                     ('amplitude-3',\n",
              "                                                                      Amplitude(metric='betti'))]), ...]},\n",
              "             scoring='accuracy')"
            ]
          },
          "metadata": {},
          "execution_count": 4
        }
      ]
    },
    {
      "cell_type": "code",
      "source": [
        "CV.fit(X_train,labels_train)"
      ],
      "metadata": {
        "colab": {
          "base_uri": "https://localhost:8080/"
        },
        "id": "63rUcJJXHl1U",
        "outputId": "29097135-12aa-4995-960b-b466473299a1"
      },
      "execution_count": 5,
      "outputs": [
        {
          "output_type": "stream",
          "name": "stderr",
          "text": [
            "/usr/local/lib/python3.7/dist-packages/sklearn/model_selection/_split.py:680: UserWarning: The least populated class in y has only 6 members, which is less than n_splits=15.\n",
            "  UserWarning,\n"
          ]
        },
        {
          "output_type": "execute_result",
          "data": {
            "text/plain": [
              "GridSearchCV(cv=StratifiedKFold(n_splits=15, random_state=0, shuffle=True),\n",
              "             estimator=Pipeline(steps=[('features',\n",
              "                                        FeatureUnion(transformer_list=[('persistenceentropy',\n",
              "                                                                        PersistenceEntropy(normalize=True)),\n",
              "                                                                       ('numberofpoints',\n",
              "                                                                        NumberOfPoints(n_jobs=-1)),\n",
              "                                                                       ('amplitude',\n",
              "                                                                        Amplitude(metric='bottleneck'))])),\n",
              "                                       ('clf',\n",
              "                                        MLPClassifier(batch_size=20,\n",
              "                                                      hidden_layer_sizes=(18...\n",
              "                                                                      Amplitude(metric='wasserstein')),\n",
              "                                                                     ('amplitude-3',\n",
              "                                                                      Amplitude())]),\n",
              "                                      FeatureUnion(transformer_list=[('persistenceentropy',\n",
              "                                                                      PersistenceEntropy(normalize=True)),\n",
              "                                                                     ('numberofpoints',\n",
              "                                                                      NumberOfPoints(n_jobs=-1)),\n",
              "                                                                     ('amplitude-1',\n",
              "                                                                      Amplitude(metric='bottleneck')),\n",
              "                                                                     ('amplitude-2',\n",
              "                                                                      Amplitude(metric='wasserstein')),\n",
              "                                                                     ('amplitude-3',\n",
              "                                                                      Amplitude(metric='betti'))]), ...]},\n",
              "             scoring='accuracy')"
            ]
          },
          "metadata": {},
          "execution_count": 5
        }
      ]
    },
    {
      "cell_type": "code",
      "source": [
        "# training\n",
        "CV.best_score_"
      ],
      "metadata": {
        "colab": {
          "base_uri": "https://localhost:8080/"
        },
        "id": "ezm_3MueHqPS",
        "outputId": "067db153-0f0a-4997-a4e3-53748d6eb7c3"
      },
      "execution_count": 6,
      "outputs": [
        {
          "output_type": "execute_result",
          "data": {
            "text/plain": [
              "0.8333333333333334"
            ]
          },
          "metadata": {},
          "execution_count": 6
        }
      ]
    },
    {
      "cell_type": "code",
      "source": [
        "# To verify that there is only one best combination\n",
        "np.where(pd.DataFrame(CV.cv_results_)['rank_test_score']==1)"
      ],
      "metadata": {
        "colab": {
          "base_uri": "https://localhost:8080/"
        },
        "id": "98wZHsX5HqSw",
        "outputId": "6f0e47eb-22e2-48fe-942e-f1fd3a76dbb9"
      },
      "execution_count": 7,
      "outputs": [
        {
          "output_type": "execute_result",
          "data": {
            "text/plain": [
              "(array([100]),)"
            ]
          },
          "metadata": {},
          "execution_count": 7
        }
      ]
    },
    {
      "cell_type": "code",
      "source": [
        "print('The best combination is : ',CV.best_params_['features'].get_params()['transformer_list'])"
      ],
      "metadata": {
        "colab": {
          "base_uri": "https://localhost:8080/"
        },
        "id": "4cBPIfu5IRIh",
        "outputId": "e122bd21-26fb-4405-918d-83f309e41e04"
      },
      "execution_count": 8,
      "outputs": [
        {
          "output_type": "stream",
          "name": "stdout",
          "text": [
            "The best combination is :  [('persistenceentropy', PersistenceEntropy(normalize=True)), ('numberofpoints', NumberOfPoints(n_jobs=-1)), ('amplitude-1', Amplitude(metric='bottleneck')), ('amplitude-2', Amplitude(metric='wasserstein')), ('amplitude-3', Amplitude()), ('amplitude-4', Amplitude(metric='betti')), ('amplitude-5', Amplitude(metric='persistence_image'))]\n"
          ]
        }
      ]
    },
    {
      "cell_type": "code",
      "source": [
        "print('Test accuracy: %.3f' % CV.score(X_valid, labels_valid))"
      ],
      "metadata": {
        "colab": {
          "base_uri": "https://localhost:8080/"
        },
        "id": "YBZK392aHs3E",
        "outputId": "3617dc3e-f1ac-4080-8a92-b7d445c41f8e"
      },
      "execution_count": 9,
      "outputs": [
        {
          "output_type": "stream",
          "name": "stdout",
          "text": [
            "Test accuracy: 0.900\n"
          ]
        }
      ]
    }
  ]
}