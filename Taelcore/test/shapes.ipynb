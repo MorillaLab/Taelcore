{
 "cells": [
  {
   "cell_type": "code",
   "execution_count": 1,
   "metadata": {},
   "outputs": [],
   "source": [
    "import torch\n",
    "from torch import nn\n",
    "from torch.utils.data import DataLoader\n",
    "from sklearn.datasets import fetch_openml\n",
    "from sklearn import preprocessing\n",
    "import pandas as pd\n",
    "import numpy as np\n",
    "import sklearn\n",
    "import warnings\n",
    "warnings.filterwarnings('ignore')\n",
    "import os\n",
    "import sys\n",
    "\n",
    "parent_directory = os.path.abspath('..')\n",
    "sys.path.append(parent_directory)\n",
    "from taelcore import taelcore\n",
    "\n",
    "\n",
    "from matplotlib import pyplot as plt\n",
    "plt.rc('figure', max_open_warning = 0)"
   ]
  },
  {
   "cell_type": "code",
   "execution_count": 2,
   "metadata": {},
   "outputs": [
    {
     "data": {
      "text/plain": [
       "((16000, 3), (16000,))"
      ]
     },
     "execution_count": 2,
     "metadata": {},
     "output_type": "execute_result"
    }
   ],
   "source": [
    "x,target=fetch_openml('shapes',return_X_y=True)\n",
    "x=x.to_numpy()\n",
    "y=x[:,-1]\n",
    "x=x[:,:3]\n",
    "x=x.astype(np.float64)\n",
    "x.shape,y.shape"
   ]
  },
  {
   "cell_type": "code",
   "execution_count": 3,
   "metadata": {},
   "outputs": [
    {
     "data": {
      "text/plain": [
       "(40,)"
      ]
     },
     "execution_count": 3,
     "metadata": {},
     "output_type": "execute_result"
    }
   ],
   "source": [
    "np.unique(y).shape\n"
   ]
  },
  {
   "cell_type": "code",
   "execution_count": 4,
   "metadata": {},
   "outputs": [],
   "source": [
    "\n",
    "enc = preprocessing.OrdinalEncoder(categories='auto')\n",
    "\n",
    "y=enc.fit_transform(y.reshape(-1,1))"
   ]
  },
  {
   "cell_type": "code",
   "execution_count": 5,
   "metadata": {},
   "outputs": [],
   "source": [
    "from sklearn.model_selection import train_test_split\n",
    "data_train,data_test,y_train,y_test = train_test_split(x,y ,random_state=89)\n",
    "\n",
    "dataset=[(x,y) for x,y in zip(data_train,y_train)]\n",
    "data_set=[(x,y) for x,y in zip(data_test,y_test)]\n",
    "\n",
    "train_loader=DataLoader(dataset, batch_size=300, shuffle=True)\n",
    "test_loader=DataLoader(data_set,batch_size=25,shuffle=True)"
   ]
  },
  {
   "cell_type": "code",
   "execution_count": 6,
   "metadata": {},
   "outputs": [],
   "source": [
    "device = torch.device(\"cuda:0\" if torch.cuda.is_available() else \"cpu\")\n"
   ]
  },
  {
   "cell_type": "code",
   "execution_count": 9,
   "metadata": {},
   "outputs": [],
   "source": [
    "class Model(nn.Module):\n",
    "    def __init__(self):\n",
    "        super().__init__()\n",
    "        self.encoder = nn.Sequential(\n",
    "            nn.Linear(3, 2)\n",
    "            \n",
    "        )\n",
    "        self.decoder = nn.Sequential(\n",
    "            nn.Linear(2, 3)\n",
    "        )\n",
    "\n",
    "    def forward(self, x):\n",
    "        x = self.encoder(x)\n",
    "        x = self.decoder(x)\n",
    "        return x\n",
    "    \n",
    "model = Model().to(device)\n",
    "model=model.double()\n",
    "learning_rate = 0.001\n",
    "\n",
    "optimizer = torch.optim.Adam(\n",
    "    model.parameters(),\n",
    "    lr=learning_rate\n",
    ")\n",
    "\n",
    "mse=nn.MSELoss()"
   ]
  },
  {
   "cell_type": "code",
   "execution_count": 10,
   "metadata": {},
   "outputs": [
    {
     "name": "stdout",
     "output_type": "stream",
     "text": [
      "Epoch 1/50, Loss: 1.7083827597952412\n",
      "Epoch 2/50, Loss: 1.6891948544570898\n",
      "Epoch 3/50, Loss: 1.6673019713048634\n",
      "Epoch 4/50, Loss: 1.6425252257939649\n",
      "Epoch 5/50, Loss: 1.6145802673581353\n",
      "Epoch 6/50, Loss: 1.583722215172721\n",
      "Epoch 7/50, Loss: 1.549846890700526\n",
      "Epoch 8/50, Loss: 1.5132536672984798\n",
      "Epoch 9/50, Loss: 1.474123805539984\n",
      "Epoch 10/50, Loss: 1.432630123764823\n",
      "Epoch 11/50, Loss: 1.389199599744922\n",
      "Epoch 12/50, Loss: 1.3439755403114326\n",
      "Epoch 13/50, Loss: 1.2973800656386048\n",
      "Epoch 14/50, Loss: 1.2497149031166328\n",
      "Epoch 15/50, Loss: 1.2014009099685832\n",
      "Epoch 16/50, Loss: 1.1525835952053092\n",
      "Epoch 17/50, Loss: 1.1037909105550208\n",
      "Epoch 18/50, Loss: 1.0553213708681803\n",
      "Epoch 19/50, Loss: 1.0074937351964734\n",
      "Epoch 20/50, Loss: 0.9603751933748822\n",
      "Epoch 21/50, Loss: 0.9146773805490541\n",
      "Epoch 22/50, Loss: 0.870297063677434\n",
      "Epoch 23/50, Loss: 0.8275707351114419\n",
      "Epoch 24/50, Loss: 0.7868930990212119\n",
      "Epoch 25/50, Loss: 0.7480278070268905\n",
      "Epoch 26/50, Loss: 0.7116615098247643\n",
      "Epoch 27/50, Loss: 0.6773169825812965\n",
      "Epoch 28/50, Loss: 0.6455919053628825\n",
      "Epoch 29/50, Loss: 0.6161327950413332\n",
      "Epoch 30/50, Loss: 0.5892831603414214\n",
      "Epoch 31/50, Loss: 0.5647565028168319\n",
      "Epoch 32/50, Loss: 0.5425963809735673\n",
      "Epoch 33/50, Loss: 0.5227805972909618\n",
      "Epoch 34/50, Loss: 0.5052182727916428\n",
      "Epoch 35/50, Loss: 0.48959917108927214\n",
      "Epoch 36/50, Loss: 0.4761128328017282\n",
      "Epoch 37/50, Loss: 0.4643568864301154\n",
      "Epoch 38/50, Loss: 0.4542379906417764\n",
      "Epoch 39/50, Loss: 0.44560994594400083\n",
      "Epoch 40/50, Loss: 0.4383030226934586\n",
      "Epoch 41/50, Loss: 0.4322343558762662\n",
      "Epoch 42/50, Loss: 0.42716962828613364\n",
      "Epoch 43/50, Loss: 0.42292462163938216\n",
      "Epoch 44/50, Loss: 0.4195240568933259\n",
      "Epoch 45/50, Loss: 0.4166754234209505\n",
      "Epoch 46/50, Loss: 0.4144235214012316\n",
      "Epoch 47/50, Loss: 0.4125573921924858\n",
      "Epoch 48/50, Loss: 0.41106295110234753\n",
      "Epoch 49/50, Loss: 0.40985939855262055\n",
      "Epoch 50/50, Loss: 0.4088438379193833\n"
     ]
    }
   ],
   "source": [
    "m,loss_data = taelcore(model, train_loader,50,mse,optimizer,device)"
   ]
  },
  {
   "cell_type": "code",
   "execution_count": 11,
   "metadata": {},
   "outputs": [
    {
     "data": {
      "image/png": "[encoded data removed]",
      "text/plain": [
       "<Figure size 640x480 with 1 Axes>"
      ]
     },
     "metadata": {},
     "output_type": "display_data"
    }
   ],
   "source": [
    "plt.plot(loss_data[:])\n",
    "plt.xlabel('Iterations')\n",
    "plt.ylabel('Loss')\n",
    "plt.show()"
   ]
  },
  {
   "cell_type": "markdown",
   "metadata": {},
   "source": [
    "# visualising loss"
   ]
  }
 ],
 "metadata": {
  "kernelspec": {
   "display_name": "Python 3",
   "language": "python",
   "name": "python3"
  },
  "language_info": {
   "codemirror_mode": {
    "name": "ipython",
    "version": 3
   },
   "file_extension": ".py",
   "mimetype": "text/x-python",
   "name": "python",
   "nbconvert_exporter": "python",
   "pygments_lexer": "ipython3",
   "version": "3.10.11"
  }
 },
 "nbformat": 4,
 "nbformat_minor": 2
}
